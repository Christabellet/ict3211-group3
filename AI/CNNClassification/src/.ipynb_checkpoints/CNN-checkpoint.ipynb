{
 "cells": [
  {
   "cell_type": "code",
   "execution_count": 1,
   "id": "6ca86e42",
   "metadata": {},
   "outputs": [],
   "source": [
    "import pandas as pd\n",
    "import numpy as np\n",
    "import tensorflow as tf\n",
    "from sklearn import preprocessing\n",
    "from sklearn.model_selection import train_test_split\n",
    "from keras.models import Sequential\n",
    "from keras.layers import Conv1D, MaxPooling1D, Dropout, Flatten, Dense\n",
    "from keras.layers import Activation\n",
    "from keras.utils import to_categorical\n",
    "from sklearn.metrics import confusion_matrix, classification_report, f1_score, precision_score, recall_score, accuracy_score"
   ]
  },
  {
   "cell_type": "code",
   "execution_count": 2,
   "id": "6b33e809",
   "metadata": {},
   "outputs": [
    {
     "data": {
      "text/html": [
       "<div>\n",
       "<style scoped>\n",
       "    .dataframe tbody tr th:only-of-type {\n",
       "        vertical-align: middle;\n",
       "    }\n",
       "\n",
       "    .dataframe tbody tr th {\n",
       "        vertical-align: top;\n",
       "    }\n",
       "\n",
       "    .dataframe thead th {\n",
       "        text-align: right;\n",
       "    }\n",
       "</style>\n",
       "<table border=\"1\" class=\"dataframe\">\n",
       "  <thead>\n",
       "    <tr style=\"text-align: right;\">\n",
       "      <th></th>\n",
       "      <th>Src IP</th>\n",
       "      <th>Src Port</th>\n",
       "      <th>Dst IP</th>\n",
       "      <th>Dst Port</th>\n",
       "      <th>Protocol</th>\n",
       "      <th>Flow Duration</th>\n",
       "      <th>Flow Byts/s</th>\n",
       "      <th>Flow Pkts/s</th>\n",
       "      <th>Flow IAT Mean</th>\n",
       "      <th>Flow IAT Std</th>\n",
       "      <th>...</th>\n",
       "      <th>Bwd IAT Min</th>\n",
       "      <th>Active Mean</th>\n",
       "      <th>Active Std</th>\n",
       "      <th>Active Max</th>\n",
       "      <th>Active Min</th>\n",
       "      <th>Idle Mean</th>\n",
       "      <th>Idle Std</th>\n",
       "      <th>Idle Max</th>\n",
       "      <th>Idle Min</th>\n",
       "      <th>Label</th>\n",
       "    </tr>\n",
       "  </thead>\n",
       "  <tbody>\n",
       "    <tr>\n",
       "      <th>0</th>\n",
       "      <td>131.202.240.87</td>\n",
       "      <td>1258</td>\n",
       "      <td>64.12.104.73</td>\n",
       "      <td>443</td>\n",
       "      <td>6</td>\n",
       "      <td>119999581</td>\n",
       "      <td>1.850006</td>\n",
       "      <td>0.041667</td>\n",
       "      <td>2.999990e+07</td>\n",
       "      <td>3.458035e+07</td>\n",
       "      <td>...</td>\n",
       "      <td>52837.0</td>\n",
       "      <td>5.243150e+04</td>\n",
       "      <td>5.734636e+02</td>\n",
       "      <td>52837.0</td>\n",
       "      <td>52026.0</td>\n",
       "      <td>5.994736e+07</td>\n",
       "      <td>4.879037e+02</td>\n",
       "      <td>59947704.0</td>\n",
       "      <td>59947014.0</td>\n",
       "      <td>Chat</td>\n",
       "    </tr>\n",
       "    <tr>\n",
       "      <th>1</th>\n",
       "      <td>131.202.240.87</td>\n",
       "      <td>1254</td>\n",
       "      <td>64.12.104.85</td>\n",
       "      <td>443</td>\n",
       "      <td>6</td>\n",
       "      <td>119999899</td>\n",
       "      <td>19.375016</td>\n",
       "      <td>0.200000</td>\n",
       "      <td>5.217387e+06</td>\n",
       "      <td>1.037269e+07</td>\n",
       "      <td>...</td>\n",
       "      <td>9508.0</td>\n",
       "      <td>1.132177e+06</td>\n",
       "      <td>1.665046e+06</td>\n",
       "      <td>3378621.0</td>\n",
       "      <td>20232.0</td>\n",
       "      <td>1.886781e+07</td>\n",
       "      <td>1.293738e+07</td>\n",
       "      <td>40602165.0</td>\n",
       "      <td>8405794.0</td>\n",
       "      <td>Chat</td>\n",
       "    </tr>\n",
       "    <tr>\n",
       "      <th>2</th>\n",
       "      <td>131.202.240.87</td>\n",
       "      <td>13389</td>\n",
       "      <td>64.12.104.73</td>\n",
       "      <td>443</td>\n",
       "      <td>6</td>\n",
       "      <td>60054835</td>\n",
       "      <td>2.464414</td>\n",
       "      <td>0.066606</td>\n",
       "      <td>2.001828e+07</td>\n",
       "      <td>3.458107e+07</td>\n",
       "      <td>...</td>\n",
       "      <td>52968.0</td>\n",
       "      <td>5.296800e+04</td>\n",
       "      <td>0.000000e+00</td>\n",
       "      <td>52968.0</td>\n",
       "      <td>52968.0</td>\n",
       "      <td>5.994906e+07</td>\n",
       "      <td>0.000000e+00</td>\n",
       "      <td>59949058.0</td>\n",
       "      <td>59949058.0</td>\n",
       "      <td>Chat</td>\n",
       "    </tr>\n",
       "    <tr>\n",
       "      <th>3</th>\n",
       "      <td>131.202.240.87</td>\n",
       "      <td>13385</td>\n",
       "      <td>64.12.24.167</td>\n",
       "      <td>443</td>\n",
       "      <td>6</td>\n",
       "      <td>87805460</td>\n",
       "      <td>28.847864</td>\n",
       "      <td>0.296109</td>\n",
       "      <td>3.512218e+06</td>\n",
       "      <td>9.550137e+06</td>\n",
       "      <td>...</td>\n",
       "      <td>1876.0</td>\n",
       "      <td>3.712991e+06</td>\n",
       "      <td>3.555993e+06</td>\n",
       "      <td>7114375.0</td>\n",
       "      <td>20308.0</td>\n",
       "      <td>2.438451e+07</td>\n",
       "      <td>1.820219e+07</td>\n",
       "      <td>45086942.0</td>\n",
       "      <td>10890558.0</td>\n",
       "      <td>Chat</td>\n",
       "    </tr>\n",
       "    <tr>\n",
       "      <th>4</th>\n",
       "      <td>131.202.240.87</td>\n",
       "      <td>13407</td>\n",
       "      <td>178.237.19.228</td>\n",
       "      <td>443</td>\n",
       "      <td>6</td>\n",
       "      <td>119998971</td>\n",
       "      <td>0.250002</td>\n",
       "      <td>0.075001</td>\n",
       "      <td>1.499987e+07</td>\n",
       "      <td>1.585589e+07</td>\n",
       "      <td>...</td>\n",
       "      <td>168275.0</td>\n",
       "      <td>1.680420e+05</td>\n",
       "      <td>1.891613e+02</td>\n",
       "      <td>168275.0</td>\n",
       "      <td>167828.0</td>\n",
       "      <td>2.983170e+07</td>\n",
       "      <td>6.525541e+02</td>\n",
       "      <td>29832657.0</td>\n",
       "      <td>29831207.0</td>\n",
       "      <td>Chat</td>\n",
       "    </tr>\n",
       "  </tbody>\n",
       "</table>\n",
       "<p>5 rows × 29 columns</p>\n",
       "</div>"
      ],
      "text/plain": [
       "           Src IP  Src Port          Dst IP  Dst Port  Protocol   \n",
       "0  131.202.240.87      1258    64.12.104.73       443         6  \\\n",
       "1  131.202.240.87      1254    64.12.104.85       443         6   \n",
       "2  131.202.240.87     13389    64.12.104.73       443         6   \n",
       "3  131.202.240.87     13385    64.12.24.167       443         6   \n",
       "4  131.202.240.87     13407  178.237.19.228       443         6   \n",
       "\n",
       "   Flow Duration  Flow Byts/s  Flow Pkts/s  Flow IAT Mean  Flow IAT Std  ...   \n",
       "0      119999581     1.850006     0.041667   2.999990e+07  3.458035e+07  ...  \\\n",
       "1      119999899    19.375016     0.200000   5.217387e+06  1.037269e+07  ...   \n",
       "2       60054835     2.464414     0.066606   2.001828e+07  3.458107e+07  ...   \n",
       "3       87805460    28.847864     0.296109   3.512218e+06  9.550137e+06  ...   \n",
       "4      119998971     0.250002     0.075001   1.499987e+07  1.585589e+07  ...   \n",
       "\n",
       "   Bwd IAT Min   Active Mean    Active Std  Active Max  Active Min   \n",
       "0      52837.0  5.243150e+04  5.734636e+02     52837.0     52026.0  \\\n",
       "1       9508.0  1.132177e+06  1.665046e+06   3378621.0     20232.0   \n",
       "2      52968.0  5.296800e+04  0.000000e+00     52968.0     52968.0   \n",
       "3       1876.0  3.712991e+06  3.555993e+06   7114375.0     20308.0   \n",
       "4     168275.0  1.680420e+05  1.891613e+02    168275.0    167828.0   \n",
       "\n",
       "      Idle Mean      Idle Std    Idle Max    Idle Min  Label  \n",
       "0  5.994736e+07  4.879037e+02  59947704.0  59947014.0   Chat  \n",
       "1  1.886781e+07  1.293738e+07  40602165.0   8405794.0   Chat  \n",
       "2  5.994906e+07  0.000000e+00  59949058.0  59949058.0   Chat  \n",
       "3  2.438451e+07  1.820219e+07  45086942.0  10890558.0   Chat  \n",
       "4  2.983170e+07  6.525541e+02  29832657.0  29831207.0   Chat  \n",
       "\n",
       "[5 rows x 29 columns]"
      ]
     },
     "execution_count": 2,
     "metadata": {},
     "output_type": "execute_result"
    }
   ],
   "source": [
    "df = pd.read_csv(\"compiled.csv\")\n",
    "df.head()"
   ]
  },
  {
   "cell_type": "markdown",
   "id": "08f17e3a",
   "metadata": {},
   "source": [
    "# Data Pre-processing"
   ]
  },
  {
   "cell_type": "code",
   "execution_count": 3,
   "id": "ac24ef8e",
   "metadata": {},
   "outputs": [
    {
     "name": "stdout",
     "output_type": "stream",
     "text": [
      "   Flow Duration  Flow Byts/s  Flow Pkts/s  Flow IAT Mean  Flow IAT Std   \n",
      "0      119999581     1.850006     0.041667   2.999990e+07  3.458035e+07  \\\n",
      "1      119999899    19.375016     0.200000   5.217387e+06  1.037269e+07   \n",
      "2       60054835     2.464414     0.066606   2.001828e+07  3.458107e+07   \n",
      "3       87805460    28.847864     0.296109   3.512218e+06  9.550137e+06   \n",
      "4      119998971     0.250002     0.075001   1.499987e+07  1.585589e+07   \n",
      "\n",
      "   Flow IAT Max  Flow IAT Min  Fwd IAT Mean   Fwd IAT Std  Fwd IAT Max  ...   \n",
      "0    59947704.0       52026.0  5.999973e+07  0.000000e+00   59999730.0  ...  \\\n",
      "1    40602165.0          58.0  1.115004e+07  1.369498e+07   40655533.0  ...   \n",
      "2    59949058.0       52809.0  0.000000e+00  0.000000e+00          0.0  ...   \n",
      "3    45086942.0          36.0  7.626982e+06  1.358550e+07   45086942.0  ...   \n",
      "4    29832657.0      167828.0  2.999972e+07  9.096027e+02   30000749.0  ...   \n",
      "\n",
      "   Bwd IAT Min   Active Mean    Active Std  Active Max  Active Min   \n",
      "0      52837.0  5.243150e+04  5.734636e+02     52837.0     52026.0  \\\n",
      "1       9508.0  1.132177e+06  1.665046e+06   3378621.0     20232.0   \n",
      "2      52968.0  5.296800e+04  0.000000e+00     52968.0     52968.0   \n",
      "3       1876.0  3.712991e+06  3.555993e+06   7114375.0     20308.0   \n",
      "4     168275.0  1.680420e+05  1.891613e+02    168275.0    167828.0   \n",
      "\n",
      "      Idle Mean      Idle Std    Idle Max    Idle Min  Label  \n",
      "0  5.994736e+07  4.879037e+02  59947704.0  59947014.0   Chat  \n",
      "1  1.886781e+07  1.293738e+07  40602165.0   8405794.0   Chat  \n",
      "2  5.994906e+07  0.000000e+00  59949058.0  59949058.0   Chat  \n",
      "3  2.438451e+07  1.820219e+07  45086942.0  10890558.0   Chat  \n",
      "4  2.983170e+07  6.525541e+02  29832657.0  29831207.0   Chat  \n",
      "\n",
      "[5 rows x 24 columns]\n",
      "(195207, 24)\n"
     ]
    }
   ],
   "source": [
    "# Remove 5-tuple\n",
    "df = df.iloc[:, 5:].copy()\n",
    "print(df.head())\n",
    "print(df.shape)"
   ]
  },
  {
   "cell_type": "code",
   "execution_count": 4,
   "id": "4e18480c",
   "metadata": {},
   "outputs": [
    {
     "name": "stdout",
     "output_type": "stream",
     "text": [
      "<class 'pandas.core.frame.DataFrame'>\n",
      "RangeIndex: 195207 entries, 0 to 195206\n",
      "Data columns (total 24 columns):\n",
      " #   Column         Non-Null Count   Dtype  \n",
      "---  ------         --------------   -----  \n",
      " 0   Flow Duration  195207 non-null  int64  \n",
      " 1   Flow Byts/s    195202 non-null  float64\n",
      " 2   Flow Pkts/s    195207 non-null  float64\n",
      " 3   Flow IAT Mean  195207 non-null  float64\n",
      " 4   Flow IAT Std   195207 non-null  float64\n",
      " 5   Flow IAT Max   195207 non-null  float64\n",
      " 6   Flow IAT Min   195207 non-null  float64\n",
      " 7   Fwd IAT Mean   195207 non-null  float64\n",
      " 8   Fwd IAT Std    195207 non-null  float64\n",
      " 9   Fwd IAT Max    195207 non-null  float64\n",
      " 10  Fwd IAT Min    195207 non-null  float64\n",
      " 11  Bwd IAT Mean   195207 non-null  float64\n",
      " 12  Bwd IAT Std    195207 non-null  float64\n",
      " 13  Bwd IAT Max    195207 non-null  float64\n",
      " 14  Bwd IAT Min    195207 non-null  float64\n",
      " 15  Active Mean    195207 non-null  float64\n",
      " 16  Active Std     195207 non-null  float64\n",
      " 17  Active Max     195207 non-null  float64\n",
      " 18  Active Min     195207 non-null  float64\n",
      " 19  Idle Mean      195207 non-null  float64\n",
      " 20  Idle Std       195207 non-null  float64\n",
      " 21  Idle Max       195207 non-null  float64\n",
      " 22  Idle Min       195207 non-null  float64\n",
      " 23  Label          195207 non-null  object \n",
      "dtypes: float64(22), int64(1), object(1)\n",
      "memory usage: 35.7+ MB\n",
      "None\n",
      "\n",
      "count     195207\n",
      "unique         5\n",
      "top         VoIP\n",
      "freq      134355\n",
      "Name: Label, dtype: object\n",
      "Label\n",
      "VoIP             134355\n",
      "File Transfer     44859\n",
      "Chat               7587\n",
      "Email              5071\n",
      "Streaming          3335\n",
      "Name: count, dtype: int64\n"
     ]
    }
   ],
   "source": [
    "# Dataset Info\n",
    "print(df.info())\n",
    "print()\n",
    "print(df['Label'].describe())\n",
    "print(df['Label'].value_counts())"
   ]
  },
  {
   "cell_type": "code",
   "execution_count": 5,
   "id": "80982aab",
   "metadata": {},
   "outputs": [
    {
     "data": {
      "text/plain": [
       "(67568, 24)"
      ]
     },
     "execution_count": 5,
     "metadata": {},
     "output_type": "execute_result"
    }
   ],
   "source": [
    "# Replace infinite values with nan\n",
    "df.replace([np.inf, -np.inf], np.nan, inplace=True)\n",
    "\n",
    "# Remove NA values\n",
    "df = df.dropna()\n",
    "    \n",
    "df.shape"
   ]
  },
  {
   "cell_type": "code",
   "execution_count": 6,
   "id": "76940c4d",
   "metadata": {},
   "outputs": [
    {
     "name": "stdout",
     "output_type": "stream",
     "text": [
      "Label\n",
      "File Transfer    44859\n",
      "Chat              7585\n",
      "VoIP              6718\n",
      "Email             5071\n",
      "Streaming         3335\n",
      "Name: count, dtype: int64\n"
     ]
    }
   ],
   "source": [
    "print(df['Label'].value_counts())"
   ]
  },
  {
   "cell_type": "code",
   "execution_count": 7,
   "id": "855bc770",
   "metadata": {},
   "outputs": [],
   "source": [
    "keys = df.keys()\n",
    "# Normalise values\n",
    "x = df.iloc[:,:-1].copy()\n",
    "min_max_scaler = preprocessing.MinMaxScaler()\n",
    "x = min_max_scaler.fit_transform(x)\n",
    "\n",
    "le = preprocessing.LabelEncoder()\n",
    "y = le.fit_transform(df[\"Label\"]).copy()"
   ]
  },
  {
   "cell_type": "code",
   "execution_count": 8,
   "id": "2b605af2",
   "metadata": {},
   "outputs": [
    {
     "name": "stdout",
     "output_type": "stream",
     "text": [
      "67568\n",
      "67568\n"
     ]
    },
    {
     "data": {
      "text/plain": [
       "5"
      ]
     },
     "execution_count": 8,
     "metadata": {},
     "output_type": "execute_result"
    }
   ],
   "source": [
    "print(len(y))\n",
    "print(len(x))\n",
    "len(le.classes_)"
   ]
  },
  {
   "cell_type": "code",
   "execution_count": 9,
   "id": "b3789048",
   "metadata": {},
   "outputs": [],
   "source": [
    "X_train, X_test, y_train, y_test = train_test_split(x, y, test_size=0.3, random_state=32)"
   ]
  },
  {
   "cell_type": "code",
   "execution_count": 10,
   "id": "b3510446",
   "metadata": {},
   "outputs": [
    {
     "name": "stdout",
     "output_type": "stream",
     "text": [
      "(47297, 23)\n",
      "(47297,)\n",
      "(20271, 23)\n",
      "(20271,)\n"
     ]
    }
   ],
   "source": [
    "print(X_train.shape)\n",
    "print(y_train.shape)\n",
    "print(X_test.shape)\n",
    "print(y_test.shape)"
   ]
  },
  {
   "cell_type": "code",
   "execution_count": 11,
   "id": "646f1a57",
   "metadata": {},
   "outputs": [
    {
     "data": {
      "text/plain": [
       "(47297, 23, 1)"
      ]
     },
     "execution_count": 11,
     "metadata": {},
     "output_type": "execute_result"
    }
   ],
   "source": [
    "# Reshape\n",
    "X_train_cnn = X_train.reshape((X_train.shape[0], X_train.shape[1], 1))\n",
    "X_test_cnn = X_test.reshape((X_test.shape[0], X_test.shape[1], 1))\n",
    "y_train = to_categorical(y_train)\n",
    "y_test = to_categorical(y_test)\n",
    "X_train_cnn.shape"
   ]
  },
  {
   "cell_type": "code",
   "execution_count": 12,
   "id": "547155b0",
   "metadata": {},
   "outputs": [
    {
     "name": "stdout",
     "output_type": "stream",
     "text": [
      "Model: \"sequential\"\n",
      "_________________________________________________________________\n",
      " Layer (type)                Output Shape              Param #   \n",
      "=================================================================\n",
      " conv1d (Conv1D)             (None, 23, 64)            128       \n",
      "                                                                 \n",
      " dropout (Dropout)           (None, 23, 64)            0         \n",
      "                                                                 \n",
      " conv1d_1 (Conv1D)           (None, 23, 128)           8320      \n",
      "                                                                 \n",
      " dropout_1 (Dropout)         (None, 23, 128)           0         \n",
      "                                                                 \n",
      " flatten (Flatten)           (None, 2944)              0         \n",
      "                                                                 \n",
      " dense (Dense)               (None, 256)               753920    \n",
      "                                                                 \n",
      " dropout_2 (Dropout)         (None, 256)               0         \n",
      "                                                                 \n",
      " dense_1 (Dense)             (None, 128)               32896     \n",
      "                                                                 \n",
      " dropout_3 (Dropout)         (None, 128)               0         \n",
      "                                                                 \n",
      " dense_2 (Dense)             (None, 64)                8256      \n",
      "                                                                 \n",
      " dropout_4 (Dropout)         (None, 64)                0         \n",
      "                                                                 \n",
      " dense_3 (Dense)             (None, 5)                 325       \n",
      "                                                                 \n",
      "=================================================================\n",
      "Total params: 803,845\n",
      "Trainable params: 803,845\n",
      "Non-trainable params: 0\n",
      "_________________________________________________________________\n",
      "Epoch 1/20\n",
      "1479/1479 [==============================] - 22s 14ms/step - loss: 1.0737 - accuracy: 0.6684 - val_loss: 1.0583 - val_accuracy: 0.6618\n",
      "Epoch 2/20\n",
      "1479/1479 [==============================] - 21s 14ms/step - loss: 1.0447 - accuracy: 0.6721 - val_loss: 1.0482 - val_accuracy: 0.6651\n",
      "Epoch 3/20\n",
      "1479/1479 [==============================] - 22s 15ms/step - loss: 1.0370 - accuracy: 0.6728 - val_loss: 1.0386 - val_accuracy: 0.6668\n",
      "Epoch 4/20\n",
      "1479/1479 [==============================] - 21s 14ms/step - loss: 1.0295 - accuracy: 0.6749 - val_loss: 1.0339 - val_accuracy: 0.6701\n",
      "Epoch 5/20\n",
      "1479/1479 [==============================] - 22s 15ms/step - loss: 1.0256 - accuracy: 0.6761 - val_loss: 1.0195 - val_accuracy: 0.6690\n",
      "Epoch 6/20\n",
      "1479/1479 [==============================] - 23s 16ms/step - loss: 1.0118 - accuracy: 0.6762 - val_loss: 0.9897 - val_accuracy: 0.6692\n",
      "Epoch 7/20\n",
      "1479/1479 [==============================] - 24s 16ms/step - loss: 0.9937 - accuracy: 0.6751 - val_loss: 0.9962 - val_accuracy: 0.6709\n",
      "Epoch 8/20\n",
      "1479/1479 [==============================] - 24s 16ms/step - loss: 0.9860 - accuracy: 0.6762 - val_loss: 0.9835 - val_accuracy: 0.6677\n",
      "Epoch 9/20\n",
      "1479/1479 [==============================] - 24s 17ms/step - loss: 0.9820 - accuracy: 0.6759 - val_loss: 0.9811 - val_accuracy: 0.6694\n",
      "Epoch 10/20\n",
      "1479/1479 [==============================] - 24s 16ms/step - loss: 0.9920 - accuracy: 0.6775 - val_loss: 0.9853 - val_accuracy: 0.6707\n",
      "Epoch 11/20\n",
      "1479/1479 [==============================] - 24s 16ms/step - loss: 0.9798 - accuracy: 0.6771 - val_loss: 0.9782 - val_accuracy: 0.6705\n",
      "Epoch 12/20\n",
      "1479/1479 [==============================] - 24s 16ms/step - loss: 0.9768 - accuracy: 0.6775 - val_loss: 0.9821 - val_accuracy: 0.6693\n",
      "Epoch 13/20\n",
      "1479/1479 [==============================] - 24s 16ms/step - loss: 0.9750 - accuracy: 0.6779 - val_loss: 0.9759 - val_accuracy: 0.6701\n",
      "Epoch 14/20\n",
      "1479/1479 [==============================] - 24s 16ms/step - loss: 0.9734 - accuracy: 0.6790 - val_loss: 0.9756 - val_accuracy: 0.6726\n",
      "Epoch 15/20\n",
      "1479/1479 [==============================] - 22s 15ms/step - loss: 0.9733 - accuracy: 0.6789 - val_loss: 0.9746 - val_accuracy: 0.6708\n",
      "Epoch 16/20\n",
      "1479/1479 [==============================] - 23s 15ms/step - loss: 0.9710 - accuracy: 0.6803 - val_loss: 0.9752 - val_accuracy: 0.6742\n",
      "Epoch 17/20\n",
      "1479/1479 [==============================] - 23s 16ms/step - loss: 0.9700 - accuracy: 0.6808 - val_loss: 0.9751 - val_accuracy: 0.6731\n",
      "Epoch 18/20\n",
      "1479/1479 [==============================] - 24s 16ms/step - loss: 0.9693 - accuracy: 0.6805 - val_loss: 0.9709 - val_accuracy: 0.6744\n",
      "Epoch 19/20\n",
      "1479/1479 [==============================] - 22s 15ms/step - loss: 0.9718 - accuracy: 0.6808 - val_loss: 0.9708 - val_accuracy: 0.6742\n",
      "Epoch 20/20\n",
      "1479/1479 [==============================] - 24s 16ms/step - loss: 0.9673 - accuracy: 0.6821 - val_loss: 0.9681 - val_accuracy: 0.6748\n"
     ]
    },
    {
     "data": {
      "text/plain": [
       "<keras.callbacks.History at 0x1ee7630f990>"
      ]
     },
     "execution_count": 12,
     "metadata": {},
     "output_type": "execute_result"
    }
   ],
   "source": [
    "# Create the CNN Model\n",
    "model = Sequential()\n",
    "\n",
    "# 1st Convolutional Layer\n",
    "model.add(Conv1D(filters=64, input_shape=(23, 1), kernel_size=1, strides=1, activation = 'relu'))\n",
    "model.add(Dropout(0.3))\n",
    "\n",
    "# 2nd Convolution Layer\n",
    "model.add(Conv1D(filters=128, kernel_size=1, strides=1, activation = 'relu'))\n",
    "model.add(Dropout(0.3))\n",
    "\n",
    "# Fully Connected layer\n",
    "model.add(Flatten())\n",
    "\n",
    "# 1st Fully Connected Layer\n",
    "model.add(Dense(256, activation='relu'))\n",
    "model.add(Dropout(0.3))\n",
    "\n",
    "# 2nd Fully Connected Layer\n",
    "model.add(Dense(128, activation='relu'))\n",
    "model.add(Dropout(0.3))\n",
    "\n",
    "# 3rd Fully Connected Layer\n",
    "model.add(Dense(64, activation='relu'))\n",
    "model.add(Dropout(0.3))\n",
    "\n",
    "# Output Layer\n",
    "model.add(Dense(len(le.classes_), activation='softmax'))\n",
    "model.compile(optimizer = 'adam', loss = 'categorical_crossentropy' , metrics = ['accuracy'])\n",
    "\n",
    "model.summary()\n",
    "\n",
    "model.fit(X_train_cnn, y_train, epochs = 20, validation_data = (X_test_cnn, y_test))"
   ]
  },
  {
   "cell_type": "code",
   "execution_count": 13,
   "id": "2b728659",
   "metadata": {},
   "outputs": [
    {
     "name": "stdout",
     "output_type": "stream",
     "text": [
      "634/634 [==============================] - 2s 3ms/step\n"
     ]
    },
    {
     "ename": "ValueError",
     "evalue": "Classification metrics can't handle a mix of multiclass and multilabel-indicator targets",
     "output_type": "error",
     "traceback": [
      "\u001b[1;31m---------------------------------------------------------------------------\u001b[0m",
      "\u001b[1;31mValueError\u001b[0m                                Traceback (most recent call last)",
      "Cell \u001b[1;32mIn[13], line 4\u001b[0m\n\u001b[0;32m      1\u001b[0m y_pred \u001b[38;5;241m=\u001b[39m model\u001b[38;5;241m.\u001b[39mpredict(X_test_cnn)\n\u001b[0;32m      2\u001b[0m y_pred \u001b[38;5;241m=\u001b[39m np\u001b[38;5;241m.\u001b[39margmax(y_pred, axis\u001b[38;5;241m=\u001b[39m\u001b[38;5;241m1\u001b[39m)\n\u001b[1;32m----> 4\u001b[0m \u001b[38;5;28mprint\u001b[39m(\u001b[38;5;124mf\u001b[39m\u001b[38;5;124m\"\u001b[39m\u001b[38;5;124mAccuracy of CNN on test set : \u001b[39m\u001b[38;5;132;01m{\u001b[39;00m\u001b[43maccuracy_score\u001b[49m\u001b[43m(\u001b[49m\u001b[43my_pred\u001b[49m\u001b[43m,\u001b[49m\u001b[38;5;250;43m \u001b[39;49m\u001b[43my_test\u001b[49m\u001b[43m)\u001b[49m\u001b[38;5;132;01m}\u001b[39;00m\u001b[38;5;124m\"\u001b[39m)\n",
      "File \u001b[1;32m~\\AppData\\Local\\Programs\\Python\\Python311\\Lib\\site-packages\\sklearn\\utils\\_param_validation.py:192\u001b[0m, in \u001b[0;36mvalidate_params.<locals>.decorator.<locals>.wrapper\u001b[1;34m(*args, **kwargs)\u001b[0m\n\u001b[0;32m    187\u001b[0m validate_parameter_constraints(\n\u001b[0;32m    188\u001b[0m     parameter_constraints, params, caller_name\u001b[38;5;241m=\u001b[39mfunc\u001b[38;5;241m.\u001b[39m\u001b[38;5;18m__qualname__\u001b[39m\n\u001b[0;32m    189\u001b[0m )\n\u001b[0;32m    191\u001b[0m \u001b[38;5;28;01mtry\u001b[39;00m:\n\u001b[1;32m--> 192\u001b[0m     \u001b[38;5;28;01mreturn\u001b[39;00m \u001b[43mfunc\u001b[49m\u001b[43m(\u001b[49m\u001b[38;5;241;43m*\u001b[39;49m\u001b[43margs\u001b[49m\u001b[43m,\u001b[49m\u001b[43m \u001b[49m\u001b[38;5;241;43m*\u001b[39;49m\u001b[38;5;241;43m*\u001b[39;49m\u001b[43mkwargs\u001b[49m\u001b[43m)\u001b[49m\n\u001b[0;32m    193\u001b[0m \u001b[38;5;28;01mexcept\u001b[39;00m InvalidParameterError \u001b[38;5;28;01mas\u001b[39;00m e:\n\u001b[0;32m    194\u001b[0m     \u001b[38;5;66;03m# When the function is just a wrapper around an estimator, we allow\u001b[39;00m\n\u001b[0;32m    195\u001b[0m     \u001b[38;5;66;03m# the function to delegate validation to the estimator, but we replace\u001b[39;00m\n\u001b[0;32m    196\u001b[0m     \u001b[38;5;66;03m# the name of the estimator by the name of the function in the error\u001b[39;00m\n\u001b[0;32m    197\u001b[0m     \u001b[38;5;66;03m# message to avoid confusion.\u001b[39;00m\n\u001b[0;32m    198\u001b[0m     msg \u001b[38;5;241m=\u001b[39m re\u001b[38;5;241m.\u001b[39msub(\n\u001b[0;32m    199\u001b[0m         \u001b[38;5;124mr\u001b[39m\u001b[38;5;124m\"\u001b[39m\u001b[38;5;124mparameter of \u001b[39m\u001b[38;5;124m\\\u001b[39m\u001b[38;5;124mw+ must be\u001b[39m\u001b[38;5;124m\"\u001b[39m,\n\u001b[0;32m    200\u001b[0m         \u001b[38;5;124mf\u001b[39m\u001b[38;5;124m\"\u001b[39m\u001b[38;5;124mparameter of \u001b[39m\u001b[38;5;132;01m{\u001b[39;00mfunc\u001b[38;5;241m.\u001b[39m\u001b[38;5;18m__qualname__\u001b[39m\u001b[38;5;132;01m}\u001b[39;00m\u001b[38;5;124m must be\u001b[39m\u001b[38;5;124m\"\u001b[39m,\n\u001b[0;32m    201\u001b[0m         \u001b[38;5;28mstr\u001b[39m(e),\n\u001b[0;32m    202\u001b[0m     )\n",
      "File \u001b[1;32m~\\AppData\\Local\\Programs\\Python\\Python311\\Lib\\site-packages\\sklearn\\metrics\\_classification.py:221\u001b[0m, in \u001b[0;36maccuracy_score\u001b[1;34m(y_true, y_pred, normalize, sample_weight)\u001b[0m\n\u001b[0;32m    155\u001b[0m \u001b[38;5;250m\u001b[39m\u001b[38;5;124;03m\"\"\"Accuracy classification score.\u001b[39;00m\n\u001b[0;32m    156\u001b[0m \n\u001b[0;32m    157\u001b[0m \u001b[38;5;124;03mIn multilabel classification, this function computes subset accuracy:\u001b[39;00m\n\u001b[1;32m   (...)\u001b[0m\n\u001b[0;32m    217\u001b[0m \u001b[38;5;124;03m0.5\u001b[39;00m\n\u001b[0;32m    218\u001b[0m \u001b[38;5;124;03m\"\"\"\u001b[39;00m\n\u001b[0;32m    220\u001b[0m \u001b[38;5;66;03m# Compute accuracy for each possible representation\u001b[39;00m\n\u001b[1;32m--> 221\u001b[0m y_type, y_true, y_pred \u001b[38;5;241m=\u001b[39m \u001b[43m_check_targets\u001b[49m\u001b[43m(\u001b[49m\u001b[43my_true\u001b[49m\u001b[43m,\u001b[49m\u001b[43m \u001b[49m\u001b[43my_pred\u001b[49m\u001b[43m)\u001b[49m\n\u001b[0;32m    222\u001b[0m check_consistent_length(y_true, y_pred, sample_weight)\n\u001b[0;32m    223\u001b[0m \u001b[38;5;28;01mif\u001b[39;00m y_type\u001b[38;5;241m.\u001b[39mstartswith(\u001b[38;5;124m\"\u001b[39m\u001b[38;5;124mmultilabel\u001b[39m\u001b[38;5;124m\"\u001b[39m):\n",
      "File \u001b[1;32m~\\AppData\\Local\\Programs\\Python\\Python311\\Lib\\site-packages\\sklearn\\metrics\\_classification.py:95\u001b[0m, in \u001b[0;36m_check_targets\u001b[1;34m(y_true, y_pred)\u001b[0m\n\u001b[0;32m     92\u001b[0m     y_type \u001b[38;5;241m=\u001b[39m {\u001b[38;5;124m\"\u001b[39m\u001b[38;5;124mmulticlass\u001b[39m\u001b[38;5;124m\"\u001b[39m}\n\u001b[0;32m     94\u001b[0m \u001b[38;5;28;01mif\u001b[39;00m \u001b[38;5;28mlen\u001b[39m(y_type) \u001b[38;5;241m>\u001b[39m \u001b[38;5;241m1\u001b[39m:\n\u001b[1;32m---> 95\u001b[0m     \u001b[38;5;28;01mraise\u001b[39;00m \u001b[38;5;167;01mValueError\u001b[39;00m(\n\u001b[0;32m     96\u001b[0m         \u001b[38;5;124m\"\u001b[39m\u001b[38;5;124mClassification metrics can\u001b[39m\u001b[38;5;124m'\u001b[39m\u001b[38;5;124mt handle a mix of \u001b[39m\u001b[38;5;132;01m{0}\u001b[39;00m\u001b[38;5;124m and \u001b[39m\u001b[38;5;132;01m{1}\u001b[39;00m\u001b[38;5;124m targets\u001b[39m\u001b[38;5;124m\"\u001b[39m\u001b[38;5;241m.\u001b[39mformat(\n\u001b[0;32m     97\u001b[0m             type_true, type_pred\n\u001b[0;32m     98\u001b[0m         )\n\u001b[0;32m     99\u001b[0m     )\n\u001b[0;32m    101\u001b[0m \u001b[38;5;66;03m# We can't have more than one value on y_type => The set is no more needed\u001b[39;00m\n\u001b[0;32m    102\u001b[0m y_type \u001b[38;5;241m=\u001b[39m y_type\u001b[38;5;241m.\u001b[39mpop()\n",
      "\u001b[1;31mValueError\u001b[0m: Classification metrics can't handle a mix of multiclass and multilabel-indicator targets"
     ]
    }
   ],
   "source": [
    "y_pred = model.predict(X_test_cnn)\n",
    "y_pred = np.argmax(y_pred, axis=1)\n",
    "\n",
    "print(f\"Accuracy of CNN on test set : {accuracy_score(y_pred, y_test)}\")"
   ]
  },
  {
   "cell_type": "code",
   "execution_count": null,
   "id": "c7aee33b",
   "metadata": {},
   "outputs": [],
   "source": [
    "# Testing\n",
    "# Normalise values\n",
    "test_data = np.array([5157723,1052.7901556559,3.6837961248,286540.166666667,878838.525555463,3743359,135,644715.375,1272066.0582144,3743562,509,568901.666666667,1209110.28710422,3743573,451,0,0,0,0,0,0,0,0])\n",
    "test_y_pred = model.predict(X_test_cnn[0:5])\n",
    "test_y_pred = np.argmax(test_y_pred, axis=1)\n",
    "\n",
    "print(test_y_pred)\n",
    "print(y_test[:5])"
   ]
  },
  {
   "cell_type": "code",
   "execution_count": 14,
   "id": "2095776a",
   "metadata": {},
   "outputs": [
    {
     "name": "stdout",
     "output_type": "stream",
     "text": [
      "1/1 [==============================] - 0s 16ms/step\n"
     ]
    },
    {
     "data": {
      "text/plain": [
       "array(['File Transfer', 'File Transfer', 'File Transfer', 'File Transfer',\n",
       "       'Chat'], dtype=object)"
      ]
     },
     "execution_count": 14,
     "metadata": {},
     "output_type": "execute_result"
    }
   ],
   "source": [
    "# Load the data\n",
    "url = 'https://raw.githubusercontent.com/micaelCZ/Paper_Repositorio/main/dataset/datasetPreprocesado/Escenario2.csv'\n",
    "df_test = pd.read_csv(url)\n",
    "\n",
    "x = df_test.iloc[4100: 4105,5:-1].copy()\n",
    "min_max_scaler = preprocessing.MinMaxScaler()\n",
    "x = min_max_scaler.fit_transform(x)\n",
    "x = x.reshape((x.shape[0], x.shape[1], 1))\n",
    "\n",
    "test_y_pred = model.predict(x)\n",
    "test_y_pred = np.argmax(test_y_pred, axis=1)\n",
    "le.inverse_transform(test_y_pred)"
   ]
  },
  {
   "cell_type": "code",
   "execution_count": 15,
   "id": "3c72d67e",
   "metadata": {},
   "outputs": [
    {
     "data": {
      "text/plain": [
       "array(['VIDEO', 'VIDEO', 'VIDEO', 'VIDEO', 'VIDEO'], dtype=object)"
      ]
     },
     "execution_count": 15,
     "metadata": {},
     "output_type": "execute_result"
    }
   ],
   "source": [
    "df_test[\"label\"].values[4100: 4105]\n"
   ]
  },
  {
   "cell_type": "code",
   "execution_count": null,
   "id": "4d636f80",
   "metadata": {},
   "outputs": [],
   "source": [
    "df_test[\"label\"].value_counts()"
   ]
  },
  {
   "cell_type": "code",
   "execution_count": null,
   "id": "effa1b0e",
   "metadata": {},
   "outputs": [],
   "source": []
  }
 ],
 "metadata": {
  "kernelspec": {
   "display_name": "Python 3 (ipykernel)",
   "language": "python",
   "name": "python3"
  },
  "language_info": {
   "codemirror_mode": {
    "name": "ipython",
    "version": 3
   },
   "file_extension": ".py",
   "mimetype": "text/x-python",
   "name": "python",
   "nbconvert_exporter": "python",
   "pygments_lexer": "ipython3",
   "version": "3.11.1"
  }
 },
 "nbformat": 4,
 "nbformat_minor": 5
}
