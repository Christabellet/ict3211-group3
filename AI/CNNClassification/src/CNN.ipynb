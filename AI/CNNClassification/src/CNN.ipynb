{
 "cells": [
  {
   "cell_type": "code",
   "execution_count": 14,
   "id": "6ca86e42",
   "metadata": {},
   "outputs": [],
   "source": [
    "import pandas as pd\n",
    "import numpy as np\n",
    "import tensorflow as tf\n",
    "from sklearn import preprocessing\n",
    "from sklearn.model_selection import train_test_split\n",
    "from keras.models import Sequential\n",
    "from keras.layers import Conv1D, MaxPooling1D, Dropout, Flatten, Dense\n",
    "from keras.layers import Activation\n",
    "from keras.utils import to_categorical\n",
    "from sklearn.metrics import confusion_matrix, classification_report, f1_score, precision_score, recall_score, accuracy_score"
   ]
  },
  {
   "cell_type": "code",
   "execution_count": 15,
   "id": "6b33e809",
   "metadata": {},
   "outputs": [
    {
     "data": {
      "text/html": [
       "<div>\n",
       "<style scoped>\n",
       "    .dataframe tbody tr th:only-of-type {\n",
       "        vertical-align: middle;\n",
       "    }\n",
       "\n",
       "    .dataframe tbody tr th {\n",
       "        vertical-align: top;\n",
       "    }\n",
       "\n",
       "    .dataframe thead th {\n",
       "        text-align: right;\n",
       "    }\n",
       "</style>\n",
       "<table border=\"1\" class=\"dataframe\">\n",
       "  <thead>\n",
       "    <tr style=\"text-align: right;\">\n",
       "      <th></th>\n",
       "      <th>Src IP</th>\n",
       "      <th>Src Port</th>\n",
       "      <th>Dst IP</th>\n",
       "      <th>Dst Port</th>\n",
       "      <th>Protocol</th>\n",
       "      <th>Flow Duration</th>\n",
       "      <th>Flow Byts/s</th>\n",
       "      <th>Flow Pkts/s</th>\n",
       "      <th>Flow IAT Mean</th>\n",
       "      <th>Flow IAT Std</th>\n",
       "      <th>...</th>\n",
       "      <th>Bwd IAT Min</th>\n",
       "      <th>Active Mean</th>\n",
       "      <th>Active Std</th>\n",
       "      <th>Active Max</th>\n",
       "      <th>Active Min</th>\n",
       "      <th>Idle Mean</th>\n",
       "      <th>Idle Std</th>\n",
       "      <th>Idle Max</th>\n",
       "      <th>Idle Min</th>\n",
       "      <th>Label</th>\n",
       "    </tr>\n",
       "  </thead>\n",
       "  <tbody>\n",
       "    <tr>\n",
       "      <th>0</th>\n",
       "      <td>131.202.240.87</td>\n",
       "      <td>1258</td>\n",
       "      <td>64.12.104.73</td>\n",
       "      <td>443</td>\n",
       "      <td>6</td>\n",
       "      <td>119999581</td>\n",
       "      <td>1.850006</td>\n",
       "      <td>0.041667</td>\n",
       "      <td>2.999990e+07</td>\n",
       "      <td>3.458035e+07</td>\n",
       "      <td>...</td>\n",
       "      <td>52837.0</td>\n",
       "      <td>5.243150e+04</td>\n",
       "      <td>5.734636e+02</td>\n",
       "      <td>52837.0</td>\n",
       "      <td>52026.0</td>\n",
       "      <td>5.994736e+07</td>\n",
       "      <td>4.879037e+02</td>\n",
       "      <td>59947704.0</td>\n",
       "      <td>59947014.0</td>\n",
       "      <td>Chat</td>\n",
       "    </tr>\n",
       "    <tr>\n",
       "      <th>1</th>\n",
       "      <td>131.202.240.87</td>\n",
       "      <td>1254</td>\n",
       "      <td>64.12.104.85</td>\n",
       "      <td>443</td>\n",
       "      <td>6</td>\n",
       "      <td>119999899</td>\n",
       "      <td>19.375016</td>\n",
       "      <td>0.200000</td>\n",
       "      <td>5.217387e+06</td>\n",
       "      <td>1.037269e+07</td>\n",
       "      <td>...</td>\n",
       "      <td>9508.0</td>\n",
       "      <td>1.132177e+06</td>\n",
       "      <td>1.665046e+06</td>\n",
       "      <td>3378621.0</td>\n",
       "      <td>20232.0</td>\n",
       "      <td>1.886781e+07</td>\n",
       "      <td>1.293738e+07</td>\n",
       "      <td>40602165.0</td>\n",
       "      <td>8405794.0</td>\n",
       "      <td>Chat</td>\n",
       "    </tr>\n",
       "    <tr>\n",
       "      <th>2</th>\n",
       "      <td>131.202.240.87</td>\n",
       "      <td>13389</td>\n",
       "      <td>64.12.104.73</td>\n",
       "      <td>443</td>\n",
       "      <td>6</td>\n",
       "      <td>60054835</td>\n",
       "      <td>2.464414</td>\n",
       "      <td>0.066606</td>\n",
       "      <td>2.001828e+07</td>\n",
       "      <td>3.458107e+07</td>\n",
       "      <td>...</td>\n",
       "      <td>52968.0</td>\n",
       "      <td>5.296800e+04</td>\n",
       "      <td>0.000000e+00</td>\n",
       "      <td>52968.0</td>\n",
       "      <td>52968.0</td>\n",
       "      <td>5.994906e+07</td>\n",
       "      <td>0.000000e+00</td>\n",
       "      <td>59949058.0</td>\n",
       "      <td>59949058.0</td>\n",
       "      <td>Chat</td>\n",
       "    </tr>\n",
       "    <tr>\n",
       "      <th>3</th>\n",
       "      <td>131.202.240.87</td>\n",
       "      <td>13385</td>\n",
       "      <td>64.12.24.167</td>\n",
       "      <td>443</td>\n",
       "      <td>6</td>\n",
       "      <td>87805460</td>\n",
       "      <td>28.847864</td>\n",
       "      <td>0.296109</td>\n",
       "      <td>3.512218e+06</td>\n",
       "      <td>9.550137e+06</td>\n",
       "      <td>...</td>\n",
       "      <td>1876.0</td>\n",
       "      <td>3.712991e+06</td>\n",
       "      <td>3.555993e+06</td>\n",
       "      <td>7114375.0</td>\n",
       "      <td>20308.0</td>\n",
       "      <td>2.438451e+07</td>\n",
       "      <td>1.820219e+07</td>\n",
       "      <td>45086942.0</td>\n",
       "      <td>10890558.0</td>\n",
       "      <td>Chat</td>\n",
       "    </tr>\n",
       "    <tr>\n",
       "      <th>4</th>\n",
       "      <td>131.202.240.87</td>\n",
       "      <td>13407</td>\n",
       "      <td>178.237.19.228</td>\n",
       "      <td>443</td>\n",
       "      <td>6</td>\n",
       "      <td>119998971</td>\n",
       "      <td>0.250002</td>\n",
       "      <td>0.075001</td>\n",
       "      <td>1.499987e+07</td>\n",
       "      <td>1.585589e+07</td>\n",
       "      <td>...</td>\n",
       "      <td>168275.0</td>\n",
       "      <td>1.680420e+05</td>\n",
       "      <td>1.891613e+02</td>\n",
       "      <td>168275.0</td>\n",
       "      <td>167828.0</td>\n",
       "      <td>2.983170e+07</td>\n",
       "      <td>6.525541e+02</td>\n",
       "      <td>29832657.0</td>\n",
       "      <td>29831207.0</td>\n",
       "      <td>Chat</td>\n",
       "    </tr>\n",
       "  </tbody>\n",
       "</table>\n",
       "<p>5 rows × 29 columns</p>\n",
       "</div>"
      ],
      "text/plain": [
       "           Src IP  Src Port          Dst IP  Dst Port  Protocol   \n",
       "0  131.202.240.87      1258    64.12.104.73       443         6  \\\n",
       "1  131.202.240.87      1254    64.12.104.85       443         6   \n",
       "2  131.202.240.87     13389    64.12.104.73       443         6   \n",
       "3  131.202.240.87     13385    64.12.24.167       443         6   \n",
       "4  131.202.240.87     13407  178.237.19.228       443         6   \n",
       "\n",
       "   Flow Duration  Flow Byts/s  Flow Pkts/s  Flow IAT Mean  Flow IAT Std  ...   \n",
       "0      119999581     1.850006     0.041667   2.999990e+07  3.458035e+07  ...  \\\n",
       "1      119999899    19.375016     0.200000   5.217387e+06  1.037269e+07  ...   \n",
       "2       60054835     2.464414     0.066606   2.001828e+07  3.458107e+07  ...   \n",
       "3       87805460    28.847864     0.296109   3.512218e+06  9.550137e+06  ...   \n",
       "4      119998971     0.250002     0.075001   1.499987e+07  1.585589e+07  ...   \n",
       "\n",
       "   Bwd IAT Min   Active Mean    Active Std  Active Max  Active Min   \n",
       "0      52837.0  5.243150e+04  5.734636e+02     52837.0     52026.0  \\\n",
       "1       9508.0  1.132177e+06  1.665046e+06   3378621.0     20232.0   \n",
       "2      52968.0  5.296800e+04  0.000000e+00     52968.0     52968.0   \n",
       "3       1876.0  3.712991e+06  3.555993e+06   7114375.0     20308.0   \n",
       "4     168275.0  1.680420e+05  1.891613e+02    168275.0    167828.0   \n",
       "\n",
       "      Idle Mean      Idle Std    Idle Max    Idle Min  Label  \n",
       "0  5.994736e+07  4.879037e+02  59947704.0  59947014.0   Chat  \n",
       "1  1.886781e+07  1.293738e+07  40602165.0   8405794.0   Chat  \n",
       "2  5.994906e+07  0.000000e+00  59949058.0  59949058.0   Chat  \n",
       "3  2.438451e+07  1.820219e+07  45086942.0  10890558.0   Chat  \n",
       "4  2.983170e+07  6.525541e+02  29832657.0  29831207.0   Chat  \n",
       "\n",
       "[5 rows x 29 columns]"
      ]
     },
     "execution_count": 15,
     "metadata": {},
     "output_type": "execute_result"
    }
   ],
   "source": [
    "df = pd.read_csv(\"../compiled.csv\")\n",
    "df.head()"
   ]
  },
  {
   "cell_type": "markdown",
   "id": "08f17e3a",
   "metadata": {},
   "source": [
    "# Data Pre-processing"
   ]
  },
  {
   "cell_type": "code",
   "execution_count": 16,
   "id": "ac24ef8e",
   "metadata": {
    "scrolled": true
   },
   "outputs": [
    {
     "name": "stdout",
     "output_type": "stream",
     "text": [
      "   Flow Duration  Flow Byts/s  Flow Pkts/s  Flow IAT Mean  Flow IAT Std   \n",
      "0      119999581     1.850006     0.041667   2.999990e+07  3.458035e+07  \\\n",
      "1      119999899    19.375016     0.200000   5.217387e+06  1.037269e+07   \n",
      "2       60054835     2.464414     0.066606   2.001828e+07  3.458107e+07   \n",
      "3       87805460    28.847864     0.296109   3.512218e+06  9.550137e+06   \n",
      "4      119998971     0.250002     0.075001   1.499987e+07  1.585589e+07   \n",
      "\n",
      "   Flow IAT Max  Flow IAT Min  Fwd IAT Mean   Fwd IAT Std  Fwd IAT Max  ...   \n",
      "0    59947704.0       52026.0  5.999973e+07  0.000000e+00   59999730.0  ...  \\\n",
      "1    40602165.0          58.0  1.115004e+07  1.369498e+07   40655533.0  ...   \n",
      "2    59949058.0       52809.0  0.000000e+00  0.000000e+00          0.0  ...   \n",
      "3    45086942.0          36.0  7.626982e+06  1.358550e+07   45086942.0  ...   \n",
      "4    29832657.0      167828.0  2.999972e+07  9.096027e+02   30000749.0  ...   \n",
      "\n",
      "   Bwd IAT Min   Active Mean    Active Std  Active Max  Active Min   \n",
      "0      52837.0  5.243150e+04  5.734636e+02     52837.0     52026.0  \\\n",
      "1       9508.0  1.132177e+06  1.665046e+06   3378621.0     20232.0   \n",
      "2      52968.0  5.296800e+04  0.000000e+00     52968.0     52968.0   \n",
      "3       1876.0  3.712991e+06  3.555993e+06   7114375.0     20308.0   \n",
      "4     168275.0  1.680420e+05  1.891613e+02    168275.0    167828.0   \n",
      "\n",
      "      Idle Mean      Idle Std    Idle Max    Idle Min  Label  \n",
      "0  5.994736e+07  4.879037e+02  59947704.0  59947014.0   Chat  \n",
      "1  1.886781e+07  1.293738e+07  40602165.0   8405794.0   Chat  \n",
      "2  5.994906e+07  0.000000e+00  59949058.0  59949058.0   Chat  \n",
      "3  2.438451e+07  1.820219e+07  45086942.0  10890558.0   Chat  \n",
      "4  2.983170e+07  6.525541e+02  29832657.0  29831207.0   Chat  \n",
      "\n",
      "[5 rows x 24 columns]\n",
      "(70537, 24)\n"
     ]
    }
   ],
   "source": [
    "# Remove 5-tuple\n",
    "df = df.iloc[:, 5:].copy()\n",
    "print(df.head())\n",
    "print(df.shape)"
   ]
  },
  {
   "cell_type": "code",
   "execution_count": 17,
   "id": "4e18480c",
   "metadata": {},
   "outputs": [
    {
     "name": "stdout",
     "output_type": "stream",
     "text": [
      "<class 'pandas.core.frame.DataFrame'>\n",
      "RangeIndex: 70537 entries, 0 to 70536\n",
      "Data columns (total 24 columns):\n",
      " #   Column         Non-Null Count  Dtype  \n",
      "---  ------         --------------  -----  \n",
      " 0   Flow Duration  70537 non-null  int64  \n",
      " 1   Flow Byts/s    70537 non-null  float64\n",
      " 2   Flow Pkts/s    70537 non-null  float64\n",
      " 3   Flow IAT Mean  70537 non-null  float64\n",
      " 4   Flow IAT Std   70537 non-null  float64\n",
      " 5   Flow IAT Max   70537 non-null  float64\n",
      " 6   Flow IAT Min   70537 non-null  float64\n",
      " 7   Fwd IAT Mean   70537 non-null  float64\n",
      " 8   Fwd IAT Std    70537 non-null  float64\n",
      " 9   Fwd IAT Max    70537 non-null  float64\n",
      " 10  Fwd IAT Min    70537 non-null  float64\n",
      " 11  Bwd IAT Mean   70537 non-null  float64\n",
      " 12  Bwd IAT Std    70537 non-null  float64\n",
      " 13  Bwd IAT Max    70537 non-null  float64\n",
      " 14  Bwd IAT Min    70537 non-null  float64\n",
      " 15  Active Mean    70537 non-null  float64\n",
      " 16  Active Std     70537 non-null  float64\n",
      " 17  Active Max     70537 non-null  float64\n",
      " 18  Active Min     70537 non-null  float64\n",
      " 19  Idle Mean      70537 non-null  float64\n",
      " 20  Idle Std       70537 non-null  float64\n",
      " 21  Idle Max       70537 non-null  float64\n",
      " 22  Idle Min       70537 non-null  float64\n",
      " 23  Label          70537 non-null  object \n",
      "dtypes: float64(22), int64(1), object(1)\n",
      "memory usage: 12.9+ MB\n",
      "None\n",
      "\n",
      "count     70537\n",
      "unique        9\n",
      "top        VoIP\n",
      "freq      52570\n",
      "Name: Label, dtype: object\n",
      "Label\n",
      "VoIP                 52570\n",
      "VPN VoIP              5265\n",
      "Email                 5071\n",
      "VPN Chat              4327\n",
      "Chat                  1127\n",
      "VPN P2P                709\n",
      "Streaming              633\n",
      "VPN Email              569\n",
      "VPN File Transfer      266\n",
      "Name: count, dtype: int64\n"
     ]
    }
   ],
   "source": [
    "# Dataset Info\n",
    "print(df.info())\n",
    "print()\n",
    "print(df['Label'].describe())\n",
    "print(df['Label'].value_counts())"
   ]
  },
  {
   "cell_type": "code",
   "execution_count": 18,
   "id": "80982aab",
   "metadata": {},
   "outputs": [
    {
     "data": {
      "text/plain": [
       "(70537, 24)"
      ]
     },
     "execution_count": 18,
     "metadata": {},
     "output_type": "execute_result"
    }
   ],
   "source": [
    "# Replace infinite values with nan\n",
    "df.replace([np.inf, -np.inf], np.nan, inplace=True)\n",
    "\n",
    "# Remove NA values\n",
    "df = df.dropna()\n",
    "    \n",
    "df.shape"
   ]
  },
  {
   "cell_type": "code",
   "execution_count": 19,
   "id": "76940c4d",
   "metadata": {},
   "outputs": [
    {
     "name": "stdout",
     "output_type": "stream",
     "text": [
      "Label\n",
      "VoIP                 52570\n",
      "VPN VoIP              5265\n",
      "Email                 5071\n",
      "VPN Chat              4327\n",
      "Chat                  1127\n",
      "VPN P2P                709\n",
      "Streaming              633\n",
      "VPN Email              569\n",
      "VPN File Transfer      266\n",
      "Name: count, dtype: int64\n"
     ]
    }
   ],
   "source": [
    "print(df['Label'].value_counts())"
   ]
  },
  {
   "cell_type": "code",
   "execution_count": 20,
   "id": "855bc770",
   "metadata": {},
   "outputs": [],
   "source": [
    "# Normalise values\n",
    "x = df.iloc[:,:-1].copy()\n",
    "min_max_scaler = preprocessing.MinMaxScaler()\n",
    "x = min_max_scaler.fit_transform(x)\n",
    "\n",
    "le = preprocessing.LabelEncoder()\n",
    "y = le.fit_transform(df[\"Label\"]).copy()"
   ]
  },
  {
   "cell_type": "code",
   "execution_count": 25,
   "id": "2b605af2",
   "metadata": {},
   "outputs": [
    {
     "name": "stdout",
     "output_type": "stream",
     "text": [
      "70537\n",
      "70537\n"
     ]
    },
    {
     "data": {
      "text/plain": [
       "9"
      ]
     },
     "execution_count": 25,
     "metadata": {},
     "output_type": "execute_result"
    }
   ],
   "source": [
    "print(len(y))\n",
    "print(len(x))\n",
    "len(le.classes_)"
   ]
  },
  {
   "cell_type": "code",
   "execution_count": 30,
   "id": "b3789048",
   "metadata": {},
   "outputs": [],
   "source": [
    "X_train, X_test, y_train, y_test = train_test_split(x, y, test_size=0.3, random_state=32)"
   ]
  },
  {
   "cell_type": "code",
   "execution_count": 31,
   "id": "b3510446",
   "metadata": {},
   "outputs": [
    {
     "name": "stdout",
     "output_type": "stream",
     "text": [
      "(49375, 23)\n",
      "(49375,)\n",
      "(21162, 23)\n",
      "(21162,)\n"
     ]
    }
   ],
   "source": [
    "print(X_train.shape)\n",
    "print(y_train.shape)\n",
    "print(X_test.shape)\n",
    "print(y_test.shape)"
   ]
  },
  {
   "cell_type": "code",
   "execution_count": 32,
   "id": "646f1a57",
   "metadata": {},
   "outputs": [
    {
     "data": {
      "text/plain": [
       "(49375, 23, 1)"
      ]
     },
     "execution_count": 32,
     "metadata": {},
     "output_type": "execute_result"
    }
   ],
   "source": [
    "# Reshape\n",
    "X_train_cnn = X_train.reshape((X_train.shape[0], X_train.shape[1], 1))\n",
    "X_test_cnn = X_test.reshape((X_test.shape[0], X_test.shape[1], 1))\n",
    "y_train = to_categorical(y_train)\n",
    "y_test_cat = to_categorical(y_test)\n",
    "\n",
    "\n",
    "X_train_cnn.shape"
   ]
  },
  {
   "cell_type": "code",
   "execution_count": 33,
   "id": "547155b0",
   "metadata": {},
   "outputs": [
    {
     "name": "stdout",
     "output_type": "stream",
     "text": [
      "Model: \"sequential_2\"\n",
      "_________________________________________________________________\n",
      " Layer (type)                Output Shape              Param #   \n",
      "=================================================================\n",
      " conv1d_4 (Conv1D)           (None, 23, 64)            128       \n",
      "                                                                 \n",
      " dropout_10 (Dropout)        (None, 23, 64)            0         \n",
      "                                                                 \n",
      " conv1d_5 (Conv1D)           (None, 23, 128)           8320      \n",
      "                                                                 \n",
      " dropout_11 (Dropout)        (None, 23, 128)           0         \n",
      "                                                                 \n",
      " flatten_2 (Flatten)         (None, 2944)              0         \n",
      "                                                                 \n",
      " dense_8 (Dense)             (None, 256)               753920    \n",
      "                                                                 \n",
      " dropout_12 (Dropout)        (None, 256)               0         \n",
      "                                                                 \n",
      " dense_9 (Dense)             (None, 128)               32896     \n",
      "                                                                 \n",
      " dropout_13 (Dropout)        (None, 128)               0         \n",
      "                                                                 \n",
      " dense_10 (Dense)            (None, 64)                8256      \n",
      "                                                                 \n",
      " dropout_14 (Dropout)        (None, 64)                0         \n",
      "                                                                 \n",
      " dense_11 (Dense)            (None, 9)                 585       \n",
      "                                                                 \n",
      "=================================================================\n",
      "Total params: 804,105\n",
      "Trainable params: 804,105\n",
      "Non-trainable params: 0\n",
      "_________________________________________________________________\n",
      "Epoch 1/20\n",
      "1543/1543 [==============================] - 16s 10ms/step - loss: 0.9084 - accuracy: 0.7634 - val_loss: 0.6051 - val_accuracy: 0.8410\n",
      "Epoch 2/20\n",
      "1543/1543 [==============================] - 19s 12ms/step - loss: 0.6158 - accuracy: 0.8310 - val_loss: 0.5521 - val_accuracy: 0.8420\n",
      "Epoch 3/20\n",
      "1543/1543 [==============================] - 18s 12ms/step - loss: 0.5838 - accuracy: 0.8367 - val_loss: 0.5477 - val_accuracy: 0.8436\n",
      "Epoch 4/20\n",
      "1543/1543 [==============================] - 18s 12ms/step - loss: 0.5703 - accuracy: 0.8385 - val_loss: 0.5345 - val_accuracy: 0.8428\n",
      "Epoch 5/20\n",
      "1543/1543 [==============================] - 20s 13ms/step - loss: 0.5565 - accuracy: 0.8409 - val_loss: 0.5241 - val_accuracy: 0.8446\n",
      "Epoch 6/20\n",
      "1543/1543 [==============================] - 18s 12ms/step - loss: 0.5532 - accuracy: 0.8422 - val_loss: 0.5215 - val_accuracy: 0.8477\n",
      "Epoch 7/20\n",
      "1543/1543 [==============================] - 18s 12ms/step - loss: 0.5444 - accuracy: 0.8446 - val_loss: 0.5213 - val_accuracy: 0.8580\n",
      "Epoch 8/20\n",
      "1543/1543 [==============================] - 18s 12ms/step - loss: 0.5399 - accuracy: 0.8457 - val_loss: 0.5080 - val_accuracy: 0.8582\n",
      "Epoch 9/20\n",
      "1543/1543 [==============================] - 18s 12ms/step - loss: 0.5344 - accuracy: 0.8456 - val_loss: 0.4947 - val_accuracy: 0.8550\n",
      "Epoch 10/20\n",
      "1543/1543 [==============================] - 17s 11ms/step - loss: 0.5282 - accuracy: 0.8493 - val_loss: 0.4873 - val_accuracy: 0.8560\n",
      "Epoch 11/20\n",
      "1543/1543 [==============================] - 18s 11ms/step - loss: 0.5263 - accuracy: 0.8480 - val_loss: 0.5091 - val_accuracy: 0.8519\n",
      "Epoch 12/20\n",
      "1543/1543 [==============================] - 18s 12ms/step - loss: 0.5224 - accuracy: 0.8499 - val_loss: 0.4803 - val_accuracy: 0.8560\n",
      "Epoch 13/20\n",
      "1543/1543 [==============================] - 18s 12ms/step - loss: 0.5188 - accuracy: 0.8498 - val_loss: 0.4805 - val_accuracy: 0.8567\n",
      "Epoch 14/20\n",
      "1543/1543 [==============================] - 18s 11ms/step - loss: 0.5191 - accuracy: 0.8493 - val_loss: 0.4764 - val_accuracy: 0.8609\n",
      "Epoch 15/20\n",
      "1543/1543 [==============================] - 18s 12ms/step - loss: 0.5151 - accuracy: 0.8506 - val_loss: 0.4744 - val_accuracy: 0.8588\n",
      "Epoch 16/20\n",
      "1543/1543 [==============================] - 18s 12ms/step - loss: 0.5146 - accuracy: 0.8508 - val_loss: 0.4915 - val_accuracy: 0.8621\n",
      "Epoch 17/20\n",
      "1543/1543 [==============================] - 18s 12ms/step - loss: 0.5119 - accuracy: 0.8516 - val_loss: 0.4754 - val_accuracy: 0.8571\n",
      "Epoch 18/20\n",
      "1543/1543 [==============================] - 18s 12ms/step - loss: 0.5109 - accuracy: 0.8511 - val_loss: 0.4677 - val_accuracy: 0.8621\n",
      "Epoch 19/20\n",
      "1543/1543 [==============================] - 18s 12ms/step - loss: 0.5103 - accuracy: 0.8517 - val_loss: 0.4681 - val_accuracy: 0.8638\n",
      "Epoch 20/20\n",
      "1543/1543 [==============================] - 20s 13ms/step - loss: 0.5109 - accuracy: 0.8507 - val_loss: 0.4689 - val_accuracy: 0.8598\n"
     ]
    },
    {
     "data": {
      "text/plain": [
       "<keras.callbacks.History at 0x1fc1b70ea10>"
      ]
     },
     "execution_count": 33,
     "metadata": {},
     "output_type": "execute_result"
    }
   ],
   "source": [
    "# Create the CNN Model\n",
    "model = Sequential()\n",
    "\n",
    "# 1st Convolutional Layer\n",
    "model.add(Conv1D(filters=64, input_shape=(23, 1), kernel_size=1, strides=1, activation = 'relu'))\n",
    "model.add(Dropout(0.3))\n",
    "\n",
    "# 2nd Convolution Layer\n",
    "model.add(Conv1D(filters=128, kernel_size=1, strides=1, activation = 'relu'))\n",
    "model.add(Dropout(0.3))\n",
    "\n",
    "# Fully Connected layer\n",
    "model.add(Flatten())\n",
    "\n",
    "# 1st Fully Connected Layer\n",
    "model.add(Dense(256, activation='relu'))\n",
    "model.add(Dropout(0.3))\n",
    "\n",
    "# 2nd Fully Connected Layer\n",
    "model.add(Dense(128, activation='relu'))\n",
    "model.add(Dropout(0.3))\n",
    "\n",
    "# 3rd Fully Connected Layer\n",
    "model.add(Dense(64, activation='relu'))\n",
    "model.add(Dropout(0.3))\n",
    "\n",
    "# Output Layer\n",
    "model.add(Dense(len(le.classes_), activation='softmax'))\n",
    "model.compile(optimizer = 'adam', loss = 'categorical_crossentropy' , metrics = ['accuracy'])\n",
    "\n",
    "model.summary()\n",
    "\n",
    "model.fit(X_train_cnn, y_train, epochs = 20, validation_data = (X_test_cnn, y_test_cat))"
   ]
  },
  {
   "cell_type": "code",
   "execution_count": 37,
   "id": "2b728659",
   "metadata": {},
   "outputs": [
    {
     "name": "stdout",
     "output_type": "stream",
     "text": [
      "662/662 [==============================] - 1s 2ms/step\n",
      "Accuracy of CNN on test set : 0.8597958605046782\n"
     ]
    }
   ],
   "source": [
    "y_pred = model.predict(X_test_cnn)\n",
    "y_pred = np.argmax(y_pred, axis=1)\n",
    "\n",
    "print(f\"Accuracy of CNN on test set : {accuracy_score(y_pred, y_test)}\")"
   ]
  },
  {
   "cell_type": "code",
   "execution_count": null,
   "id": "ff793ccf",
   "metadata": {},
   "outputs": [],
   "source": []
  }
 ],
 "metadata": {
  "kernelspec": {
   "display_name": "Python 3 (ipykernel)",
   "language": "python",
   "name": "python3"
  },
  "language_info": {
   "codemirror_mode": {
    "name": "ipython",
    "version": 3
   },
   "file_extension": ".py",
   "mimetype": "text/x-python",
   "name": "python",
   "nbconvert_exporter": "python",
   "pygments_lexer": "ipython3",
   "version": "3.11.1"
  }
 },
 "nbformat": 4,
 "nbformat_minor": 5
}
